import cv2
 # Get user supplied values
imagePath = "./my_pic.jpg"
# Read the image
image = cv2.imread(imagePath)
gray = cv2.cvtColor(image, cv2.COLOR_BGR2GRAY)

kernel_size = (5,5)
# opencv has implementation for kernel based box blurring
blur = cv2.blur(gray,kernel_size)

#cv2.imshow("Grayscale image", gray)
cv2.imshow("Blur image", blur)
filename = 'savedImage.jpg'
  
# Using cv2.imwrite() method 
# Saving the image 
cv2.imwrite(filename, blur) 